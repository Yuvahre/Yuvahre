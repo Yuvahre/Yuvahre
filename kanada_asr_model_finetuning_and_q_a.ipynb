{
  "nbformat": 4,
  "nbformat_minor": 0,
  "metadata": {
    "colab": {
      "provenance": [],
      "gpuType": "T4",
      "mount_file_id": "1FQLS71slOEjKaXGkPgHvRxtQbSEhWfSZ",
      "authorship_tag": "ABX9TyMlWfelNZZ85kcCj+NTHch8",
      "include_colab_link": true
    },
    "kernelspec": {
      "name": "python3",
      "display_name": "Python 3"
    },
    "language_info": {
      "name": "python"
    },
    "accelerator": "GPU",
    "widgets": {
      "application/vnd.jupyter.widget-state+json": {
        "f77c0242ab5e4b818c6f595c2b5e93df": {
          "model_module": "@jupyter-widgets/controls",
          "model_name": "HBoxModel",
          "model_module_version": "1.5.0",
          "state": {
            "_dom_classes": [],
            "_model_module": "@jupyter-widgets/controls",
            "_model_module_version": "1.5.0",
            "_model_name": "HBoxModel",
            "_view_count": null,
            "_view_module": "@jupyter-widgets/controls",
            "_view_module_version": "1.5.0",
            "_view_name": "HBoxView",
            "box_style": "",
            "children": [
              "IPY_MODEL_00a6b909f16347ebbe3fd948a0615c10",
              "IPY_MODEL_3a7a6423c6f04acb9110a4539122cbf3",
              "IPY_MODEL_4fa39bbbe22a4aeeaedac7d8ad70e24a"
            ],
            "layout": "IPY_MODEL_150aa1d8002942c8bf8ece6e907cefb1"
          }
        },
        "00a6b909f16347ebbe3fd948a0615c10": {
          "model_module": "@jupyter-widgets/controls",
          "model_name": "HTMLModel",
          "model_module_version": "1.5.0",
          "state": {
            "_dom_classes": [],
            "_model_module": "@jupyter-widgets/controls",
            "_model_module_version": "1.5.0",
            "_model_name": "HTMLModel",
            "_view_count": null,
            "_view_module": "@jupyter-widgets/controls",
            "_view_module_version": "1.5.0",
            "_view_name": "HTMLView",
            "description": "",
            "description_tooltip": null,
            "layout": "IPY_MODEL_df389d34f3d042a3a9ecc602dd065b9f",
            "placeholder": "​",
            "style": "IPY_MODEL_f3a94f7034cc4b78a7f752d84e1026af",
            "value": "model.safetensors: 100%"
          }
        },
        "3a7a6423c6f04acb9110a4539122cbf3": {
          "model_module": "@jupyter-widgets/controls",
          "model_name": "FloatProgressModel",
          "model_module_version": "1.5.0",
          "state": {
            "_dom_classes": [],
            "_model_module": "@jupyter-widgets/controls",
            "_model_module_version": "1.5.0",
            "_model_name": "FloatProgressModel",
            "_view_count": null,
            "_view_module": "@jupyter-widgets/controls",
            "_view_module_version": "1.5.0",
            "_view_name": "ProgressView",
            "bar_style": "success",
            "description": "",
            "description_tooltip": null,
            "layout": "IPY_MODEL_bd8857efc2894d249c643197d52bae1c",
            "max": 1115567652,
            "min": 0,
            "orientation": "horizontal",
            "style": "IPY_MODEL_ec19643b72e9492091f088687f19226e",
            "value": 1115567652
          }
        },
        "4fa39bbbe22a4aeeaedac7d8ad70e24a": {
          "model_module": "@jupyter-widgets/controls",
          "model_name": "HTMLModel",
          "model_module_version": "1.5.0",
          "state": {
            "_dom_classes": [],
            "_model_module": "@jupyter-widgets/controls",
            "_model_module_version": "1.5.0",
            "_model_name": "HTMLModel",
            "_view_count": null,
            "_view_module": "@jupyter-widgets/controls",
            "_view_module_version": "1.5.0",
            "_view_name": "HTMLView",
            "description": "",
            "description_tooltip": null,
            "layout": "IPY_MODEL_d21cbafc4d6a4d6dbb04447cb32bb069",
            "placeholder": "​",
            "style": "IPY_MODEL_d32d81a3d26a43b2a84ddca754057a1c",
            "value": " 1.12G/1.12G [00:07&lt;00:00, 162MB/s]"
          }
        },
        "150aa1d8002942c8bf8ece6e907cefb1": {
          "model_module": "@jupyter-widgets/base",
          "model_name": "LayoutModel",
          "model_module_version": "1.2.0",
          "state": {
            "_model_module": "@jupyter-widgets/base",
            "_model_module_version": "1.2.0",
            "_model_name": "LayoutModel",
            "_view_count": null,
            "_view_module": "@jupyter-widgets/base",
            "_view_module_version": "1.2.0",
            "_view_name": "LayoutView",
            "align_content": null,
            "align_items": null,
            "align_self": null,
            "border": null,
            "bottom": null,
            "display": null,
            "flex": null,
            "flex_flow": null,
            "grid_area": null,
            "grid_auto_columns": null,
            "grid_auto_flow": null,
            "grid_auto_rows": null,
            "grid_column": null,
            "grid_gap": null,
            "grid_row": null,
            "grid_template_areas": null,
            "grid_template_columns": null,
            "grid_template_rows": null,
            "height": null,
            "justify_content": null,
            "justify_items": null,
            "left": null,
            "margin": null,
            "max_height": null,
            "max_width": null,
            "min_height": null,
            "min_width": null,
            "object_fit": null,
            "object_position": null,
            "order": null,
            "overflow": null,
            "overflow_x": null,
            "overflow_y": null,
            "padding": null,
            "right": null,
            "top": null,
            "visibility": null,
            "width": null
          }
        },
        "df389d34f3d042a3a9ecc602dd065b9f": {
          "model_module": "@jupyter-widgets/base",
          "model_name": "LayoutModel",
          "model_module_version": "1.2.0",
          "state": {
            "_model_module": "@jupyter-widgets/base",
            "_model_module_version": "1.2.0",
            "_model_name": "LayoutModel",
            "_view_count": null,
            "_view_module": "@jupyter-widgets/base",
            "_view_module_version": "1.2.0",
            "_view_name": "LayoutView",
            "align_content": null,
            "align_items": null,
            "align_self": null,
            "border": null,
            "bottom": null,
            "display": null,
            "flex": null,
            "flex_flow": null,
            "grid_area": null,
            "grid_auto_columns": null,
            "grid_auto_flow": null,
            "grid_auto_rows": null,
            "grid_column": null,
            "grid_gap": null,
            "grid_row": null,
            "grid_template_areas": null,
            "grid_template_columns": null,
            "grid_template_rows": null,
            "height": null,
            "justify_content": null,
            "justify_items": null,
            "left": null,
            "margin": null,
            "max_height": null,
            "max_width": null,
            "min_height": null,
            "min_width": null,
            "object_fit": null,
            "object_position": null,
            "order": null,
            "overflow": null,
            "overflow_x": null,
            "overflow_y": null,
            "padding": null,
            "right": null,
            "top": null,
            "visibility": null,
            "width": null
          }
        },
        "f3a94f7034cc4b78a7f752d84e1026af": {
          "model_module": "@jupyter-widgets/controls",
          "model_name": "DescriptionStyleModel",
          "model_module_version": "1.5.0",
          "state": {
            "_model_module": "@jupyter-widgets/controls",
            "_model_module_version": "1.5.0",
            "_model_name": "DescriptionStyleModel",
            "_view_count": null,
            "_view_module": "@jupyter-widgets/base",
            "_view_module_version": "1.2.0",
            "_view_name": "StyleView",
            "description_width": ""
          }
        },
        "bd8857efc2894d249c643197d52bae1c": {
          "model_module": "@jupyter-widgets/base",
          "model_name": "LayoutModel",
          "model_module_version": "1.2.0",
          "state": {
            "_model_module": "@jupyter-widgets/base",
            "_model_module_version": "1.2.0",
            "_model_name": "LayoutModel",
            "_view_count": null,
            "_view_module": "@jupyter-widgets/base",
            "_view_module_version": "1.2.0",
            "_view_name": "LayoutView",
            "align_content": null,
            "align_items": null,
            "align_self": null,
            "border": null,
            "bottom": null,
            "display": null,
            "flex": null,
            "flex_flow": null,
            "grid_area": null,
            "grid_auto_columns": null,
            "grid_auto_flow": null,
            "grid_auto_rows": null,
            "grid_column": null,
            "grid_gap": null,
            "grid_row": null,
            "grid_template_areas": null,
            "grid_template_columns": null,
            "grid_template_rows": null,
            "height": null,
            "justify_content": null,
            "justify_items": null,
            "left": null,
            "margin": null,
            "max_height": null,
            "max_width": null,
            "min_height": null,
            "min_width": null,
            "object_fit": null,
            "object_position": null,
            "order": null,
            "overflow": null,
            "overflow_x": null,
            "overflow_y": null,
            "padding": null,
            "right": null,
            "top": null,
            "visibility": null,
            "width": null
          }
        },
        "ec19643b72e9492091f088687f19226e": {
          "model_module": "@jupyter-widgets/controls",
          "model_name": "ProgressStyleModel",
          "model_module_version": "1.5.0",
          "state": {
            "_model_module": "@jupyter-widgets/controls",
            "_model_module_version": "1.5.0",
            "_model_name": "ProgressStyleModel",
            "_view_count": null,
            "_view_module": "@jupyter-widgets/base",
            "_view_module_version": "1.2.0",
            "_view_name": "StyleView",
            "bar_color": null,
            "description_width": ""
          }
        },
        "d21cbafc4d6a4d6dbb04447cb32bb069": {
          "model_module": "@jupyter-widgets/base",
          "model_name": "LayoutModel",
          "model_module_version": "1.2.0",
          "state": {
            "_model_module": "@jupyter-widgets/base",
            "_model_module_version": "1.2.0",
            "_model_name": "LayoutModel",
            "_view_count": null,
            "_view_module": "@jupyter-widgets/base",
            "_view_module_version": "1.2.0",
            "_view_name": "LayoutView",
            "align_content": null,
            "align_items": null,
            "align_self": null,
            "border": null,
            "bottom": null,
            "display": null,
            "flex": null,
            "flex_flow": null,
            "grid_area": null,
            "grid_auto_columns": null,
            "grid_auto_flow": null,
            "grid_auto_rows": null,
            "grid_column": null,
            "grid_gap": null,
            "grid_row": null,
            "grid_template_areas": null,
            "grid_template_columns": null,
            "grid_template_rows": null,
            "height": null,
            "justify_content": null,
            "justify_items": null,
            "left": null,
            "margin": null,
            "max_height": null,
            "max_width": null,
            "min_height": null,
            "min_width": null,
            "object_fit": null,
            "object_position": null,
            "order": null,
            "overflow": null,
            "overflow_x": null,
            "overflow_y": null,
            "padding": null,
            "right": null,
            "top": null,
            "visibility": null,
            "width": null
          }
        },
        "d32d81a3d26a43b2a84ddca754057a1c": {
          "model_module": "@jupyter-widgets/controls",
          "model_name": "DescriptionStyleModel",
          "model_module_version": "1.5.0",
          "state": {
            "_model_module": "@jupyter-widgets/controls",
            "_model_module_version": "1.5.0",
            "_model_name": "DescriptionStyleModel",
            "_view_count": null,
            "_view_module": "@jupyter-widgets/base",
            "_view_module_version": "1.2.0",
            "_view_name": "StyleView",
            "description_width": ""
          }
        }
      }
    }
  },
  "cells": [
    {
      "cell_type": "markdown",
      "metadata": {
        "id": "view-in-github",
        "colab_type": "text"
      },
      "source": [
        "<a href=\"https://colab.research.google.com/github/Yuvahre/Yuvahre/blob/main/kanada_asr_model_finetuning_and_q_a.ipynb\" target=\"_parent\"><img src=\"https://colab.research.google.com/assets/colab-badge.svg\" alt=\"Open In Colab\"/></a>"
      ]
    },
    {
      "cell_type": "code",
      "source": [
        "import librosa\n",
        "import noisereduce as nr\n",
        "import soundfile as sf\n",
        "import numpy as np\n",
        "import os\n",
        "from pydub import AudioSegment, effects\n",
        "import scipy.signal as signal\n",
        "\n",
        "input_dir = r\"D:\\Documents\\sem5-docs\\sandlewood\\data\"\n",
        "output_dir = r\"D:\\Documents\\sem5-docs\\sandlewood\\output\"\n",
        "os.makedirs(output_dir, exist_ok=True)\n",
        "\n",
        "def high_pass_filter(data, cutoff=80, fs=16000, order=5):\n",
        "    nyquist = 0.5 * fs\n",
        "    normal_cutoff = cutoff / nyquist\n",
        "    b, a = signal.butter(order, normal_cutoff, btype='high', analog=False)\n",
        "    y = signal.lfilter(b, a, data)\n",
        "    return y\n",
        "\n",
        "def change_pitch(audio, semitones):\n",
        "    return audio._spawn(audio.raw_data, overrides={\"frame_rate\": int(audio.frame_rate * (2.0 ** (semitones / 12.0)))})\n",
        "\n",
        "# Process each audio file\n",
        "for filename in os.listdir(input_dir):\n",
        "    if filename.endswith(\".mp3\") or filename.endswith(\".wav\"):\n",
        "        file_path = os.path.join(input_dir, filename)\n",
        "        y, sr = librosa.load(file_path, sr=None)\n",
        "\n",
        "        # Step 1: Noise reduction\n",
        "        reduced_noise = nr.reduce_noise(y=y, sr=sr)\n",
        "\n",
        "        intermediate_path = os.path.join(output_dir, f\"{filename}_denoised.wav\")\n",
        "        sf.write(intermediate_path, reduced_noise, sr)\n",
        "\n",
        "        # Step 2: Normalize volume using pydub\n",
        "        audio = AudioSegment.from_file(intermediate_path)\n",
        "        normalized_audio = effects.normalize(audio)\n",
        "\n",
        "        normalized_audio_path = os.path.join(output_dir, f\"{filename}_normalized.wav\")\n",
        "        normalized_audio.export(normalized_audio_path, format=\"wav\")\n",
        "\n",
        "        # Step 3: Apply high-pass filter\n",
        "        y, sr = librosa.load(normalized_audio_path, sr=None)\n",
        "        filtered_audio = high_pass_filter(y, cutoff=80, fs=sr)\n",
        "\n",
        "        eq_audio_path = os.path.join(output_dir, f\"{filename}_eq.wav\")\n",
        "        sf.write(eq_audio_path, filtered_audio, sr)\n",
        "\n",
        "        # Step 4: De-reverb\n",
        "        S = librosa.stft(filtered_audio)\n",
        "        S_db = librosa.amplitude_to_db(abs(S))\n",
        "        S_smooth = librosa.decompose.nn_filter(S_db, aggregate=np.median, metric='cosine')\n",
        "\n",
        "        if np.any(np.isnan(S_smooth)) or np.any(np.isinf(S_smooth)):\n",
        "            print(f\"Warning: NaNs or Infinities detected in the smoothed spectrogram for {filename}\")\n",
        "\n",
        "        S_smooth_amplitude = librosa.db_to_amplitude(S_smooth)\n",
        "        dereverb_audio = librosa.istft(S_smooth_amplitude)\n",
        "        dereverb_audio = np.clip(dereverb_audio, -1, 1)\n",
        "\n",
        "        dereverb_audio_path = os.path.join(output_dir, f\"{filename}_dereverb.wav\")\n",
        "        sf.write(dereverb_audio_path, dereverb_audio, sr)\n",
        "\n",
        "        adjusted_pitch_audio = change_pitch(normalized_audio, -2)\n",
        "        pitch_adjusted_path = os.path.join(output_dir, f\"{filename}_pitch_adjusted.wav\")\n",
        "        adjusted_pitch_audio.export(pitch_adjusted_path, format=\"wav\")\n",
        "\n",
        "        y, sr = librosa.load(pitch_adjusted_path, sr=None)\n",
        "        y_resampled = librosa.resample(y, orig_sr=sr, target_sr=16000)\n",
        "\n",
        "        final_output_path = os.path.join(output_dir, f\"{filename}_processed.wav\")\n",
        "        sf.write(final_output_path, y_resampled, 16000)"
      ],
      "metadata": {
        "id": "91_86oE2pRAE"
      },
      "execution_count": null,
      "outputs": []
    },
    {
      "cell_type": "code",
      "source": [
        "import os\n",
        "import torch\n",
        "import soundfile as sf\n",
        "from transformers import AutoModelForSpeechSeq2Seq, AutoProcessor, pipeline\n",
        "import pandas as pd\n",
        "from pydub import AudioSegment\n",
        "import numpy as np\n",
        "from concurrent.futures import ProcessPoolExecutor\n",
        "import gc\n",
        "import librosa\n",
        "\n",
        "device = \"cuda:0\" if torch.cuda.is_available() else \"cpu\"\n",
        "torch_dtype = torch.float16 if torch.cuda.is_available() else torch.float32\n",
        "\n",
        "model_id = \"openai/whisper-large-v3\"\n",
        "\n",
        "model = AutoModelForSpeechSeq2Seq.from_pretrained(\n",
        "    model_id, torch_dtype=torch_dtype, low_cpu_mem_usage=True, use_safetensors=True\n",
        ")\n",
        "model.to(device)\n",
        "processor = AutoProcessor.from_pretrained(model_id)\n",
        "\n",
        "forced_decoder_ids = processor.get_decoder_prompt_ids(language=\"kn\", task=\"transcribe\")\n",
        "model.config.forced_decoder_ids = forced_decoder_ids\n",
        "\n",
        "pipe = pipeline(\n",
        "    \"automatic-speech-recognition\",\n",
        "    model=model,\n",
        "    tokenizer=processor.tokenizer,\n",
        "    feature_extractor=processor.feature_extractor,\n",
        "    torch_dtype=torch_dtype,\n",
        "    device=device,\n",
        ")\n",
        "\n",
        "def transcribe_audio(file_path):\n",
        "    try:\n",
        "        audio, _ = sf.read(file_path)\n",
        "        audio_resampled = np.mean(audio, axis=1) if len(audio.shape) > 1 else audio\n",
        "        result = pipe(audio_resampled, return_timestamps=True)\n",
        "        print(file_path)\n",
        "        print(result[\"text\"])\n",
        "        return {\"file\": os.path.basename(file_path), \"transcription\": result[\"text\"]}\n",
        "    except Exception as e:\n",
        "        print(f\"Error transcribing {file_path}: {e}\")\n",
        "        return None\n",
        "\n",
        "\n",
        "def transcribe_dataset(dataset_directory):\n",
        "    file_paths = [os.path.join(dataset_directory, f) for f in os.listdir(dataset_directory) if f.endswith(\".wav\")]\n",
        "    transcriptions = []\n",
        "    for file_path in file_paths:\n",
        "        result = transcribe_audio(file_path)\n",
        "        if result:\n",
        "            transcriptions.append(result)\n",
        "        gc.collect()\n",
        "\n",
        "    df = pd.DataFrame(transcriptions)\n",
        "    df.to_csv('transcriptions.csv', index=False)\n",
        "    print(\"Transcriptions saved to 'transcriptions.csv'\")\n",
        "\n",
        "\n",
        "def split_audio(file_path, chunk_length_ms=10000):\n",
        "    audio = AudioSegment.from_file(file_path)\n",
        "    chunk_paths = []\n",
        "    for i, chunk in enumerate(audio[::chunk_length_ms]):\n",
        "        chunk_name = f\"{file_path}_chunk{i}.wav\"\n",
        "        chunk.export(chunk_name, format=\"wav\")\n",
        "        chunk_paths.append(chunk_name)\n",
        "    return chunk_paths\n",
        "\n",
        "def extract_mfcc(file_path, n_mfcc=13):\n",
        "    try:\n",
        "        audio, sr = librosa.load(file_path, sr=None)\n",
        "        mfccs = librosa.feature.mfcc(y=audio, sr=sr, n_mfcc=n_mfcc)\n",
        "        return np.mean(mfccs.T, axis=0).tolist()\n",
        "    except Exception as e:\n",
        "        print(f\"Error extracting MFCCs from {file_path}: {e}\")\n",
        "        return []\n",
        "\n",
        "def save_features(dataset_directory):\n",
        "    features = []\n",
        "    for filename in os.listdir(dataset_directory):\n",
        "        if filename.endswith(\".wav\"):\n",
        "            file_path = os.path.join(dataset_directory, filename)\n",
        "            mfccs = extract_mfcc(file_path)\n",
        "            features.append({\"file\": filename, \"mfccs\": mfccs})\n",
        "    pd.DataFrame(features).to_csv('features.csv', index=False)\n",
        "    print(\"MFCCs saved to 'features.csv'\")\n",
        "\n",
        "def speed_augmentation(audio, rate=1.2):\n",
        "    return np.interp(np.arange(0, len(audio), rate), np.arange(0, len(audio)), audio)\n",
        "\n",
        "def noise_augmentation(audio, noise_factor=0.005):\n",
        "    noise = np.random.randn(len(audio))\n",
        "    return audio + noise_factor * noise\n",
        "\n",
        "def augment_dataset(dataset_directory):\n",
        "    for filename in os.listdir(dataset_directory):\n",
        "        if filename.endswith(\".wav\"):\n",
        "            file_path = os.path.join(dataset_directory, filename)\n",
        "            audio, sr = sf.read(file_path)\n",
        "\n",
        "            sf.write(file_path.replace(\".wav\", \"_speed.wav\"), speed_augmentation(audio, 1.2), sr)\n",
        "            sf.write(file_path.replace(\".wav\", \"_noisy.wav\"), noise_augmentation(audio, 0.005), sr)\n",
        "\n",
        "def structure_dataset_for_asr(dataset_directory, transcriptions_csv):\n",
        "    transcriptions = pd.read_csv(transcriptions_csv).set_index(\"file\").to_dict()[\"transcription\"]\n",
        "    structured_data = []\n",
        "\n",
        "    for filename in os.listdir(dataset_directory):\n",
        "        if filename.endswith(\".wav\") and filename in transcriptions:\n",
        "            structured_data.append({\"audio_path\": os.path.join(dataset_directory, filename), \"transcription\": transcriptions[filename]})\n",
        "\n",
        "    pd.DataFrame(structured_data).to_csv('structured_dataset.csv', index=False)\n",
        "    print(\"Structured dataset saved to 'structured_dataset.csv'\")\n",
        "\n",
        "def prepare_asr_dataset(dataset_directory):\n",
        "    transcribe_dataset(dataset_directory)\n",
        "\n",
        "    for filename in os.listdir(dataset_directory):\n",
        "        if filename.endswith(\".wav\"):\n",
        "            split_audio(os.path.join(dataset_directory, filename))\n",
        "\n",
        "    save_features(dataset_directory)\n",
        "\n",
        "    augment_dataset(dataset_directory)\n",
        "\n",
        "    structure_dataset_for_asr(dataset_directory, 'transcriptions.csv')\n",
        "\n",
        "prepare_asr_dataset(r\"D:\\Documents\\sem5-docs\\sandlewood\\output\")"
      ],
      "metadata": {
        "id": "qSF4l8aqoppP"
      },
      "execution_count": null,
      "outputs": []
    },
    {
      "cell_type": "code",
      "source": [
        "pip install transformers datasets torch evaluate jiwer"
      ],
      "metadata": {
        "id": "AZd_vdZ-piuu"
      },
      "execution_count": null,
      "outputs": []
    },
    {
      "cell_type": "code",
      "source": [
        "from datasets import Dataset, DatasetDict, Audio\n",
        "import pandas as pd\n",
        "\n",
        "df = pd.read_csv(\"structured_dataset.csv\")\n",
        "\n",
        "dataset = Dataset.from_pandas(df)\n",
        "\n",
        "dataset = dataset.cast_column(\"audio_path\", Audio())\n",
        "dataset = dataset.rename_column(\"audio_path\", \"audio\")\n",
        "dataset = dataset.rename_column(\"transcription\", \"text\")\n",
        "\n",
        "split_dataset = dataset.train_test_split(test_size=0.1, seed=42)\n",
        "print(\"Dataset prepared successfully!\")\n"
      ],
      "metadata": {
        "id": "TaiX0mJmpjtu"
      },
      "execution_count": null,
      "outputs": []
    },
    {
      "cell_type": "code",
      "source": [
        "from transformers import AutoProcessor\n",
        "\n",
        "# Load processor for Whisper\n",
        "processor = AutoProcessor.from_pretrained(\"openai/whisper-large-v2\")\n",
        "\n",
        "def preprocess(batch):\n",
        "    audio = batch[\"audio\"]\n",
        "    inputs = processor(audio[\"array\"], sampling_rate=audio[\"sampling_rate\"], return_tensors=\"pt\")\n",
        "\n",
        "    with processor.as_target_processor():\n",
        "        labels = processor(batch[\"text\"], return_tensors=\"pt\").input_ids\n",
        "\n",
        "    batch[\"input_features\"] = inputs.input_features[0]\n",
        "    batch[\"labels\"] = labels[0]\n",
        "    return batch\n",
        "\n",
        "prepared_dataset = split_dataset.map(preprocess, remove_columns=[\"audio\", \"text\"])\n"
      ],
      "metadata": {
        "id": "XrzqsZl7podG"
      },
      "execution_count": null,
      "outputs": []
    },
    {
      "cell_type": "code",
      "source": [
        "from transformers import WhisperForConditionalGeneration, Seq2SeqTrainingArguments, Seq2SeqTrainer\n",
        "\n",
        "# Load Whisper model\n",
        "model = WhisperForConditionalGeneration.from_pretrained(\"openai/whisper-large-v2\")\n",
        "\n",
        "training_args = Seq2SeqTrainingArguments(\n",
        "    output_dir=\"./whisper-finetuned\",\n",
        "    per_device_train_batch_size=8,\n",
        "    gradient_accumulation_steps=2,\n",
        "    evaluation_strategy=\"epoch\",\n",
        "    learning_rate=1e-5,\n",
        "    warmup_steps=500,\n",
        "    max_steps=10000,\n",
        "    save_steps=1000,\n",
        "    save_total_limit=2,\n",
        "    fp16=torch.cuda.is_available(),\n",
        "    logging_dir=\"./logs\",\n",
        "    report_to=\"tensorboard\",\n",
        "    load_best_model_at_end=True,\n",
        "    metric_for_best_model=\"wer\",\n",
        ")\n",
        "\n",
        "from evaluate import load\n",
        "wer_metric = load(\"wer\")\n",
        "\n",
        "def compute_metrics(eval_preds):\n",
        "    pred_ids, label_ids = eval_preds\n",
        "    pred_str = processor.batch_decode(pred_ids, skip_special_tokens=True)\n",
        "    label_ids[label_ids == -100] = processor.tokenizer.pad_token_id\n",
        "    label_str = processor.batch_decode(label_ids, skip_special_tokens=True)\n",
        "    wer = wer_metric.compute(predictions=pred_str, references=label_str)\n",
        "    return {\"wer\": wer}\n"
      ],
      "metadata": {
        "id": "b0Mxzy0apxN5"
      },
      "execution_count": null,
      "outputs": []
    },
    {
      "cell_type": "code",
      "source": [
        "trainer = Seq2SeqTrainer(\n",
        "    model=model,\n",
        "    args=training_args,\n",
        "    train_dataset=prepared_dataset[\"train\"],\n",
        "    eval_dataset=prepared_dataset[\"test\"],\n",
        "    tokenizer=processor.feature_extractor,\n",
        "    compute_metrics=compute_metrics,\n",
        ")\n",
        "\n",
        "trainer.train()\n",
        "\n",
        "trainer.save_model(\"./whisper-finetuned\")\n",
        "processor.save_pretrained(\"./whisper-finetuned\")\n"
      ],
      "metadata": {
        "id": "S1ZdVLmZp0P1"
      },
      "execution_count": null,
      "outputs": []
    },
    {
      "cell_type": "code",
      "source": [
        "from transformers import pipeline\n",
        "import librosa\n",
        "\n",
        "finetuned_model = WhisperForConditionalGeneration.from_pretrained(\"./whisper-finetuned\")\n",
        "finetuned_processor = AutoProcessor.from_pretrained(\"./whisper-finetuned\")\n",
        "\n",
        "asr_pipeline = pipeline(\n",
        "    \"automatic-speech-recognition\",\n",
        "    model=finetuned_model,\n",
        "    tokenizer=finetuned_processor.tokenizer,\n",
        "    feature_extractor=finetuned_processor.feature_extractor,\n",
        "    device=device,\n",
        ")\n",
        "\n",
        "audio_path = \"/content/drive/MyDrive/audio.wav\"\n",
        "audio, sr = librosa.load(audio_path, sr=16000)\n",
        "result = asr_pipeline(audio)\n",
        "\n",
        "with open(\"kanada_results.txt\", \"w\", encoding=\"utf-8\") as f:\n",
        "    f.write(result[\"text\"])"
      ],
      "metadata": {
        "id": "ZzDzrFvAqoh4"
      },
      "execution_count": null,
      "outputs": []
    },
    {
      "cell_type": "code",
      "execution_count": 1,
      "metadata": {
        "colab": {
          "base_uri": "https://localhost:8080/"
        },
        "id": "Uuauv6ROlBuc",
        "outputId": "1c446ebe-37fa-4cf5-dc12-6a8fe93c605f"
      },
      "outputs": [
        {
          "output_type": "stream",
          "name": "stdout",
          "text": [
            "Requirement already satisfied: transformers in /usr/local/lib/python3.10/dist-packages (4.46.2)\n",
            "Requirement already satisfied: torch in /usr/local/lib/python3.10/dist-packages (2.5.1+cu121)\n",
            "Requirement already satisfied: nltk in /usr/local/lib/python3.10/dist-packages (3.9.1)\n",
            "Requirement already satisfied: filelock in /usr/local/lib/python3.10/dist-packages (from transformers) (3.16.1)\n",
            "Requirement already satisfied: huggingface-hub<1.0,>=0.23.2 in /usr/local/lib/python3.10/dist-packages (from transformers) (0.26.2)\n",
            "Requirement already satisfied: numpy>=1.17 in /usr/local/lib/python3.10/dist-packages (from transformers) (1.26.4)\n",
            "Requirement already satisfied: packaging>=20.0 in /usr/local/lib/python3.10/dist-packages (from transformers) (24.2)\n",
            "Requirement already satisfied: pyyaml>=5.1 in /usr/local/lib/python3.10/dist-packages (from transformers) (6.0.2)\n",
            "Requirement already satisfied: regex!=2019.12.17 in /usr/local/lib/python3.10/dist-packages (from transformers) (2024.9.11)\n",
            "Requirement already satisfied: requests in /usr/local/lib/python3.10/dist-packages (from transformers) (2.32.3)\n",
            "Requirement already satisfied: safetensors>=0.4.1 in /usr/local/lib/python3.10/dist-packages (from transformers) (0.4.5)\n",
            "Requirement already satisfied: tokenizers<0.21,>=0.20 in /usr/local/lib/python3.10/dist-packages (from transformers) (0.20.3)\n",
            "Requirement already satisfied: tqdm>=4.27 in /usr/local/lib/python3.10/dist-packages (from transformers) (4.66.6)\n",
            "Requirement already satisfied: typing-extensions>=4.8.0 in /usr/local/lib/python3.10/dist-packages (from torch) (4.12.2)\n",
            "Requirement already satisfied: networkx in /usr/local/lib/python3.10/dist-packages (from torch) (3.4.2)\n",
            "Requirement already satisfied: jinja2 in /usr/local/lib/python3.10/dist-packages (from torch) (3.1.4)\n",
            "Requirement already satisfied: fsspec in /usr/local/lib/python3.10/dist-packages (from torch) (2024.10.0)\n",
            "Requirement already satisfied: sympy==1.13.1 in /usr/local/lib/python3.10/dist-packages (from torch) (1.13.1)\n",
            "Requirement already satisfied: mpmath<1.4,>=1.1.0 in /usr/local/lib/python3.10/dist-packages (from sympy==1.13.1->torch) (1.3.0)\n",
            "Requirement already satisfied: click in /usr/local/lib/python3.10/dist-packages (from nltk) (8.1.7)\n",
            "Requirement already satisfied: joblib in /usr/local/lib/python3.10/dist-packages (from nltk) (1.4.2)\n",
            "Requirement already satisfied: MarkupSafe>=2.0 in /usr/local/lib/python3.10/dist-packages (from jinja2->torch) (3.0.2)\n",
            "Requirement already satisfied: charset-normalizer<4,>=2 in /usr/local/lib/python3.10/dist-packages (from requests->transformers) (3.4.0)\n",
            "Requirement already satisfied: idna<4,>=2.5 in /usr/local/lib/python3.10/dist-packages (from requests->transformers) (3.10)\n",
            "Requirement already satisfied: urllib3<3,>=1.21.1 in /usr/local/lib/python3.10/dist-packages (from requests->transformers) (2.2.3)\n",
            "Requirement already satisfied: certifi>=2017.4.17 in /usr/local/lib/python3.10/dist-packages (from requests->transformers) (2024.8.30)\n"
          ]
        }
      ],
      "source": [
        "pip install transformers torch nltk"
      ]
    },
    {
      "cell_type": "code",
      "source": [
        "import nltk\n",
        "\n",
        "nltk.download('punkt')"
      ],
      "metadata": {
        "colab": {
          "base_uri": "https://localhost:8080/"
        },
        "id": "P2-FVIjjlPht",
        "outputId": "0906f8b6-3dec-4669-eeec-d578edbb3865"
      },
      "execution_count": 3,
      "outputs": [
        {
          "output_type": "stream",
          "name": "stderr",
          "text": [
            "[nltk_data] Downloading package punkt to /root/nltk_data...\n",
            "[nltk_data]   Package punkt is already up-to-date!\n"
          ]
        },
        {
          "output_type": "execute_result",
          "data": {
            "text/plain": [
              "True"
            ]
          },
          "metadata": {},
          "execution_count": 3
        }
      ]
    },
    {
      "cell_type": "code",
      "source": [
        "try:\n",
        "    nltk.data.find('tokenizers/punkt')\n",
        "    print(\"Punkt resource found.\")\n",
        "except LookupError:\n",
        "    print(\"Punkt resource not found.\")"
      ],
      "metadata": {
        "colab": {
          "base_uri": "https://localhost:8080/"
        },
        "id": "PlvnMi-9lkKc",
        "outputId": "e577a735-911a-4b6f-b7ae-ebd0afa1c2bd"
      },
      "execution_count": 4,
      "outputs": [
        {
          "output_type": "stream",
          "name": "stdout",
          "text": [
            "Punkt resource found.\n"
          ]
        }
      ]
    },
    {
      "cell_type": "code",
      "source": [
        "file_path = '/content/kanada results.txt'\n",
        "with open(file_path, 'r', encoding='utf-8') as file:\n",
        "    kannada_text = file.read()\n",
        "\n",
        "print(\"Kannada text loaded successfully!\")\n"
      ],
      "metadata": {
        "colab": {
          "base_uri": "https://localhost:8080/"
        },
        "id": "N7IGEFZtmB8u",
        "outputId": "f261203b-54a0-450f-c1db-6abdc00d255d"
      },
      "execution_count": 10,
      "outputs": [
        {
          "output_type": "stream",
          "name": "stdout",
          "text": [
            "Kannada text loaded successfully!\n"
          ]
        }
      ]
    },
    {
      "cell_type": "code",
      "source": [
        "from transformers import AutoTokenizer\n",
        "\n",
        "model_name = \"xlm-roberta-base\"\n",
        "tokenizer = AutoTokenizer.from_pretrained(model_name)\n",
        "\n",
        "def split_into_chunks(text, tokenizer, max_length=512):\n",
        "    \"\"\"\n",
        "    Splits text into manageable chunks of tokens within max_length.\n",
        "    \"\"\"\n",
        "    tokens = tokenizer.tokenize(text)\n",
        "    chunks = []\n",
        "\n",
        "    for i in range(0, len(tokens), max_length):\n",
        "        chunk_tokens = tokens[i:i+max_length]\n",
        "        chunk_text = tokenizer.convert_tokens_to_string(chunk_tokens)\n",
        "        chunks.append(chunk_text)\n",
        "\n",
        "    return chunks\n",
        "\n",
        "chunks = split_into_chunks(kannada_text, tokenizer)\n",
        "print(f\"Number of chunks: {len(chunks)}\")\n"
      ],
      "metadata": {
        "colab": {
          "base_uri": "https://localhost:8080/"
        },
        "id": "0tyDj8G2mOZN",
        "outputId": "19d7f668-5218-46a2-a597-db2f4d15c411"
      },
      "execution_count": 11,
      "outputs": [
        {
          "output_type": "stream",
          "name": "stderr",
          "text": [
            "Token indices sequence length is longer than the specified maximum sequence length for this model (19338 > 512). Running this sequence through the model will result in indexing errors\n"
          ]
        },
        {
          "output_type": "stream",
          "name": "stdout",
          "text": [
            "Number of chunks: 38\n"
          ]
        }
      ]
    },
    {
      "cell_type": "code",
      "source": [
        "from transformers import AutoModelForQuestionAnswering, pipeline\n",
        "\n",
        "model = AutoModelForQuestionAnswering.from_pretrained(model_name)\n",
        "\n",
        "qa_pipeline = pipeline(\"question-answering\", model=model, tokenizer=tokenizer)\n",
        "\n",
        "print(\"Model and pipeline loaded successfully!\")"
      ],
      "metadata": {
        "colab": {
          "base_uri": "https://localhost:8080/",
          "height": 138,
          "referenced_widgets": [
            "f77c0242ab5e4b818c6f595c2b5e93df",
            "00a6b909f16347ebbe3fd948a0615c10",
            "3a7a6423c6f04acb9110a4539122cbf3",
            "4fa39bbbe22a4aeeaedac7d8ad70e24a",
            "150aa1d8002942c8bf8ece6e907cefb1",
            "df389d34f3d042a3a9ecc602dd065b9f",
            "f3a94f7034cc4b78a7f752d84e1026af",
            "bd8857efc2894d249c643197d52bae1c",
            "ec19643b72e9492091f088687f19226e",
            "d21cbafc4d6a4d6dbb04447cb32bb069",
            "d32d81a3d26a43b2a84ddca754057a1c"
          ]
        },
        "id": "BHL0_wJimqy_",
        "outputId": "f3df7fb2-bd01-43af-eb35-01a16d01329f"
      },
      "execution_count": 12,
      "outputs": [
        {
          "output_type": "display_data",
          "data": {
            "text/plain": [
              "model.safetensors:   0%|          | 0.00/1.12G [00:00<?, ?B/s]"
            ],
            "application/vnd.jupyter.widget-view+json": {
              "version_major": 2,
              "version_minor": 0,
              "model_id": "f77c0242ab5e4b818c6f595c2b5e93df"
            }
          },
          "metadata": {}
        },
        {
          "output_type": "stream",
          "name": "stderr",
          "text": [
            "Some weights of XLMRobertaForQuestionAnswering were not initialized from the model checkpoint at xlm-roberta-base and are newly initialized: ['qa_outputs.bias', 'qa_outputs.weight']\n",
            "You should probably TRAIN this model on a down-stream task to be able to use it for predictions and inference.\n",
            "Hardware accelerator e.g. GPU is available in the environment, but no `device` argument is passed to the `Pipeline` object. Model will be on CPU.\n"
          ]
        },
        {
          "output_type": "stream",
          "name": "stdout",
          "text": [
            "Model and pipeline loaded successfully!\n"
          ]
        }
      ]
    },
    {
      "cell_type": "code",
      "source": [
        "questions = [\n",
        "    \"ಈ ಪಠ್ಯದ ಮುಖ್ಯ ಅಂಶಗಳು ಯಾವವು?\",\n",
        "]\n",
        "\n",
        "for question in questions:\n",
        "    print(f\"Question: {question}\")\n",
        "    for i, chunk in enumerate(chunks):\n",
        "        try:\n",
        "            answer = qa_pipeline(question=question, context=chunk)\n",
        "            print(f\"Chunk {i+1}: {answer['answer']}\")\n",
        "        except Exception as e:\n",
        "            print(f\"Error in Chunk {i+1}: {str(e)}\")\n",
        "    print(\"-\" * 50)\n"
      ],
      "metadata": {
        "colab": {
          "base_uri": "https://localhost:8080/"
        },
        "id": "LQZMUG-cnYsI",
        "outputId": "4e5a2a22-29f0-44a3-8f2a-70fdd566d1d5"
      },
      "execution_count": 13,
      "outputs": [
        {
          "output_type": "stream",
          "name": "stdout",
          "text": [
            "Question: ಈ ಪಠ್ಯದ ಮುಖ್ಯ ಅಂಶಗಳು ಯಾವವು?\n",
            "Chunk 1: ಸರ್ವಶಕ್ತನಾಗಲು. ಮಾವಿನ ಹಣ್ಣನ್ನು\n",
            "Chunk 2: ಆತಾರ 111 ಕೆಜಿ ಗುಣ. ಕತ್ತರಿಸಿ.\n",
            "Chunk 3: ನೇಡಿದಾನೆ. ಮರ ಆಧಾರಿತ ಕ್ರಿಷಿಯಿಂದ ಹೇಗೆ\n",
            "Chunk 4: ರೇಸೆಮಿ\n",
            "Chunk 5: ರಕ್ತಚಿಂದನ ಕಳ್ಳರು\n",
            "Chunk 6: ವೇರತ್ತುವು.\n",
            "Chunk 7: ಊಹೆ ತಪ್ಪಾಗಿತ್ತು. ಒಂದೇ ನಿಮಿಷದಲ್ಲಿ\n",
            "Chunk 8: ಹೇಳಲುಂ ಇದಿದಿದಿದಿದಿದಿದಿದಿದಿದಿದಿದಿದಿದಿದಿದಿದಿದಿದಿದಿದಿದಿದಿದಿದಿದಿದಿದಿದಿದಿದಿದಿದಿದಿದಿದಿದಿದಿದಿದಿದಿದಿದಿದಿದಿದಿದಿದಿದಿದಿದಿದಿದಿದಿದಿದಿದಿದಿದಿದಿದಿದಿದಿದಿದಿದಿದಿದಿದಿದಿದಿದಿದಿದಿದಿದಿದಿದಿದಿದಿದಿದಿದಿದಿದಿದಿದಿದಿದಿದಿದಿದಿದಿದಿದಿದಿದಿದಿದಿದಿದಿದಿದಿದಿದಿದಿದಿದಿದಿದಿದ\n",
            "Chunk 9: ಜಾಗತಾವಾಗು\n",
            "Chunk 10: ಸ್ಮಾರು ಹತ್ರಿಂದ\n",
            "Chunk 11: ತಿಮರು ಕಳ್ಳುರು.\n",
            "Chunk 12: వారా సాండేల్లుక్ కల్ట్రేషం\n",
            "Chunk 13: అదికట్స్తుపార్తుపార్తుప్పార్తుప్పార్తుప్పార్తుప్పార్తుప్పార్తుప్పార్తుప్పార్తుప్పార్తుప్పార్తుప్పార్తుప్పార్తుప్పార్తుప్పార్తుప్పార్తుప్పార్తుప్పార్తుప్పార్తుప్పార్తుప్పార్తుప్పార్తుప్పార్తుప్పార్తుప్పార్తుప్ప\n",
            "Chunk 14: మిస్వర్కులు స్టీన్నే\n",
            "Chunk 15: సాపించాలుం కేస్టు సాపించాలుం కేస్టు సాపించాలుం\n",
            "Chunk 16: ಮಾಡಿರ್ತ ಕಂದದ ಮರಗಳಿಗೆ ಎಕಾಯಿಕ\n",
            "Chunk 17: ತೆಗಳಿ ಕೊಟ್ಟುವೇ\n",
            "Chunk 18: ವಾದಿಸಿದರು. ಕೊಡ್ತಿವಾರಿಡಿದಿದೀ\n",
            "Chunk 19: ಅತ್ತುಗರಿಗೆ\n",
            "Chunk 20: ಪುಡಿಯನ್ನ ಎರಡು ಲೋಟಾ ನೀರಿಕೆ ಒಂದು ಚಮಚ ಸ್ತಿಗಂದದ\n",
            "Chunk 21: ಕಡಮೆಯಾಕ್ತವರ್ತುದೇ ಕಲೆಗಳು ಕಡ್ಮೆ\n",
            "Chunk 22: ತೆಗೆದುಹಾಕುತ್ತೇವೆ.\n",
            "Chunk 23: ಹೊಗಿದರೆ ಅಮ್ಮಿಲ್ಲಿ\n",
            "Chunk 24: , ಇದು, ಇದು, ಇದು, ಇದು,\n",
            "Chunk 25: ರೇಷ್ಮಟ್ಟಿ\n",
            "Chunk 26: ಪದವೀಧರ. ನನಗೂ\n",
            "Chunk 27: ನಿನಗೂ ಏನು ವ್ಯತ್ಯಾಸ?\n",
            "Chunk 28: ದೆಗೆರುತ್ತೇತು ನಮ್ಮ ಚಪ್ಪಲಿ ಸ್ಥಿತಿ ನಾವು ಕಾಡಿನಲ್ಲಿ\n",
            "Chunk 29: ಮರಡಿಕಿಂಡಿಕಿಂಡಿಕಿಂಡಿಕಿಂಡಿಕಿಂಡಿಕಿಂಡಿಕಿಂಡಿಕಿಂಡಿಕಿಂಡಿಕಿಂಡಿಕಿಂಡಿಕಿಂಡಿಕಿಂಡಿ\n",
            "Chunk 30: ವರ್ಚಿಗೆ ಕಡಿಯ ಕಬರುಚುಟ್ಟೆ,\n",
            "Chunk 31: ಆಯಿರುತುನ್ ದಾಂಡ್ಕೆ ಬೆಳೆಯಲು ಕೆಂಪು ಮಣ್ಣು\n",
            "Chunk 32: ಹಾಕ್ ದಿ. ಆ ಉ ಮಾರ ಕಡಿಯೇ ಬರ್ವತ್\n",
            "Chunk 33: ಬೋತಿಕ ಅವಶಿಗಳದಂತ ಮಣ್ಣು\n",
            "Chunk 34: ಒಗ್ಗೂಡಿಸಿ ಸಾವಿರ ಎಕರೆಯಲ್ಲಿ ಶ್ರೀಗಂಟ ಕೃಷಿ\n",
            "Chunk 35: ಬೊಲ್ಶೆಯ್ ಮತ್ತು\n",
            "Chunk 36: ಟೊಮ್ಯಾಟೊ, ಚಿಕನ್ ಮತ್ತು ಇತರ ವಸ್ತುಗಳನ್ನು ಬಳಸಿದಂತೆ\n",
            "Chunk 37: ವಿಶಿಕುಮರ್ ಯಾರು ಇಬ್ಬ ಬಗ್ಗೆ ಯಾರಿಗು ಪರಿಸೇರಲಿಲ್ಲಾ.\n",
            "Chunk 38: ಮಾಯತಿಯನ್ನ ಬೇರೆ ರೆಚಿದುಸಾ ನೀಟಿದಾರೆ. ಕೇವಲಾ\n",
            "--------------------------------------------------\n"
          ]
        }
      ]
    },
    {
      "cell_type": "code",
      "source": [
        "for question in questions:\n",
        "    all_answers = []\n",
        "    for chunk in chunks:\n",
        "        try:\n",
        "            result = qa_pipeline(question=question, context=chunk)\n",
        "            all_answers.append(result['answer'])\n",
        "        except:\n",
        "            continue\n",
        "    final_answer = \" \".join(all_answers)\n",
        "    print(f\"Final Answer for '{question}': {final_answer}\")\n",
        "    print(\"-\" * 50)\n"
      ],
      "metadata": {
        "colab": {
          "base_uri": "https://localhost:8080/"
        },
        "id": "MNey9_U4nkSW",
        "outputId": "a81ac39c-29a1-47fd-cf9f-49edee9e6262"
      },
      "execution_count": 14,
      "outputs": [
        {
          "output_type": "stream",
          "name": "stdout",
          "text": [
            "Final Answer for 'ಈ ಪಠ್ಯದ ಮುಖ್ಯ ಅಂಶಗಳು ಯಾವವು?': ಸರ್ವಶಕ್ತನಾಗಲು. ಮಾವಿನ ಹಣ್ಣನ್ನು ಆತಾರ 111 ಕೆಜಿ ಗುಣ. ಕತ್ತರಿಸಿ. ನೇಡಿದಾನೆ. ಮರ ಆಧಾರಿತ ಕ್ರಿಷಿಯಿಂದ ಹೇಗೆ ರೇಸೆಮಿ ರಕ್ತಚಿಂದನ ಕಳ್ಳರು ವೇರತ್ತುವು. ಊಹೆ ತಪ್ಪಾಗಿತ್ತು. ಒಂದೇ ನಿಮಿಷದಲ್ಲಿ ಹೇಳಲುಂ ಇದಿದಿದಿದಿದಿದಿದಿದಿದಿದಿದಿದಿದಿದಿದಿದಿದಿದಿದಿದಿದಿದಿದಿದಿದಿದಿದಿದಿದಿದಿದಿದಿದಿದಿದಿದಿದಿದಿದಿದಿದಿದಿದಿದಿದಿದಿದಿದಿದಿದಿದಿದಿದಿದಿದಿದಿದಿದಿದಿದಿದಿದಿದಿದಿದಿದಿದಿದಿದಿದಿದಿದಿದಿದಿದಿದಿದಿದಿದಿದಿದಿದಿದಿದಿದಿದಿದಿದಿದಿದಿದಿದಿದಿದಿದಿದಿದಿದಿದಿದಿದಿದಿದಿದಿದಿದಿದಿದಿದಿದಿದ ಜಾಗತಾವಾಗು ಸ್ಮಾರು ಹತ್ರಿಂದ ತಿಮರು ಕಳ್ಳುರು. వారా సాండేల్లుక్ కల్ట్రేషం అదికట్స్తుపార్తుపార్తుప్పార్తుప్పార్తుప్పార్తుప్పార్తుప్పార్తుప్పార్తుప్పార్తుప్పార్తుప్పార్తుప్పార్తుప్పార్తుప్పార్తుప్పార్తుప్పార్తుప్పార్తుప్పార్తుప్పార్తుప్పార్తుప్పార్తుప్పార్తుప్పార్తుప్పార్తుప్పార్తుప్ప మిస్వర్కులు స్టీన్నే సాపించాలుం కేస్టు సాపించాలుం కేస్టు సాపించాలుం ಮಾಡಿರ್ತ ಕಂದದ ಮರಗಳಿಗೆ ಎಕಾಯಿಕ ತೆಗಳಿ ಕೊಟ್ಟುವೇ ವಾದಿಸಿದರು. ಕೊಡ್ತಿವಾರಿಡಿದಿದೀ ಅತ್ತುಗರಿಗೆ ಪುಡಿಯನ್ನ ಎರಡು ಲೋಟಾ ನೀರಿಕೆ ಒಂದು ಚಮಚ ಸ್ತಿಗಂದದ ಕಡಮೆಯಾಕ್ತವರ್ತುದೇ ಕಲೆಗಳು ಕಡ್ಮೆ ತೆಗೆದುಹಾಕುತ್ತೇವೆ. ಹೊಗಿದರೆ ಅಮ್ಮಿಲ್ಲಿ , ಇದು, ಇದು, ಇದು, ಇದು, ರೇಷ್ಮಟ್ಟಿ ಪದವೀಧರ. ನನಗೂ ನಿನಗೂ ಏನು ವ್ಯತ್ಯಾಸ? ದೆಗೆರುತ್ತೇತು ನಮ್ಮ ಚಪ್ಪಲಿ ಸ್ಥಿತಿ ನಾವು ಕಾಡಿನಲ್ಲಿ ಮರಡಿಕಿಂಡಿಕಿಂಡಿಕಿಂಡಿಕಿಂಡಿಕಿಂಡಿಕಿಂಡಿಕಿಂಡಿಕಿಂಡಿಕಿಂಡಿಕಿಂಡಿಕಿಂಡಿಕಿಂಡಿಕಿಂಡಿ ವರ್ಚಿಗೆ ಕಡಿಯ ಕಬರುಚುಟ್ಟೆ, ಆಯಿರುತುನ್ ದಾಂಡ್ಕೆ ಬೆಳೆಯಲು ಕೆಂಪು ಮಣ್ಣು ಹಾಕ್ ದಿ. ಆ ಉ ಮಾರ ಕಡಿಯೇ ಬರ್ವತ್ ಬೋತಿಕ ಅವಶಿಗಳದಂತ ಮಣ್ಣು ಒಗ್ಗೂಡಿಸಿ ಸಾವಿರ ಎಕರೆಯಲ್ಲಿ ಶ್ರೀಗಂಟ ಕೃಷಿ ಬೊಲ್ಶೆಯ್ ಮತ್ತು ಟೊಮ್ಯಾಟೊ, ಚಿಕನ್ ಮತ್ತು ಇತರ ವಸ್ತುಗಳನ್ನು ಬಳಸಿದಂತೆ ವಿಶಿಕುಮರ್ ಯಾರು ಇಬ್ಬ ಬಗ್ಗೆ ಯಾರಿಗು ಪರಿಸೇರಲಿಲ್ಲಾ. ಮಾಯತಿಯನ್ನ ಬೇರೆ ರೆಚಿದುಸಾ ನೀಟಿದಾರೆ. ಕೇವಲಾ\n",
            "--------------------------------------------------\n"
          ]
        }
      ]
    },
    {
      "cell_type": "code",
      "source": [],
      "metadata": {
        "id": "YlZelBh9n5so"
      },
      "execution_count": null,
      "outputs": []
    }
  ]
}